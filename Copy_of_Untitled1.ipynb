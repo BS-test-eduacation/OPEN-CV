{
  "nbformat": 4,
  "nbformat_minor": 0,
  "metadata": {
    "colab": {
      "name": "Copy of Untitled1.ipynb",
      "provenance": [],
      "authorship_tag": "ABX9TyPyN+T+knauV/TItfJ+Vf5l",
      "include_colab_link": true
    },
    "kernelspec": {
      "name": "python3",
      "display_name": "Python 3"
    },
    "accelerator": "GPU"
  },
  "cells": [
    {
      "cell_type": "markdown",
      "metadata": {
        "id": "view-in-github",
        "colab_type": "text"
      },
      "source": [
        "<a href=\"https://colab.research.google.com/github/BS-test-eduacation/OPEN-CV/blob/master/Copy_of_Untitled1.ipynb\" target=\"_parent\"><img src=\"https://colab.research.google.com/assets/colab-badge.svg\" alt=\"Open In Colab\"/></a>"
      ]
    },
    {
      "cell_type": "code",
      "metadata": {
        "id": "SO9fqe57OhD-",
        "colab_type": "code",
        "colab": {
          "base_uri": "https://localhost:8080/",
          "height": 380
        },
        "outputId": "efb1a39c-d030-4cb4-ab2e-e7e8dedf8b09"
      },
      "source": [
        "# coding=utf-8\n",
        "\n",
        "# 載入函示庫\n",
        "import numpy as np\n",
        "import matplotlib.pyplot as plt\n",
        "\n",
        "from PIL import Image\n",
        "\n",
        "from keras.models import Sequential\n",
        "from keras.layers import Dense,Dropout\n",
        "\n",
        "num_classes = 10\n",
        "\n",
        "# 模型架構\n",
        "model = Sequential()\n",
        "model.add(Dense(512, activation='relu', input_shape=(784,)))\n",
        "model.add(Dense(512, activation='relu'))\n",
        "model.add(Dense(num_classes, activation='softmax'))\n",
        "\n",
        "# 載入模型\n",
        "try:\n",
        "    model.load_weights(\"mnist.h5\")\n",
        "    print(\"success\")\n",
        "except:\n",
        "    print(\"error\")\n",
        "\t\n",
        "def plot_image(image):\n",
        "    fig=plt.gcf()\n",
        "    fig.set_size_inches(2, 2)\n",
        "    plt.imshow(image,cmap='binary')\n",
        "    plt.show()\n",
        "\n",
        "# 讀取樣本\n",
        "img=np.array(Image.open('test.jpg').convert('L'))\n",
        "plot_image(img)\n",
        "\n",
        "# 樣本前處理\n",
        "x_Test = img.reshape(1,784).astype('float32')\n",
        "x_Test_normalize = x_Test.astype('float32') / 255.0\n",
        "\n",
        "# 樣本預測\n",
        "prediction=model.predict(x_Test_normalize)\n",
        "print(prediction[0])\n",
        "\n",
        "prediction=model.predict_classes(x_Test_normalize)\n",
        "print(prediction[0])"
      ],
      "execution_count": 1,
      "outputs": [
        {
          "output_type": "stream",
          "text": [
            "Using TensorFlow backend.\n"
          ],
          "name": "stderr"
        },
        {
          "output_type": "stream",
          "text": [
            "error\n"
          ],
          "name": "stdout"
        },
        {
          "output_type": "error",
          "ename": "FileNotFoundError",
          "evalue": "ignored",
          "traceback": [
            "\u001b[0;31m---------------------------------------------------------------------------\u001b[0m",
            "\u001b[0;31mFileNotFoundError\u001b[0m                         Traceback (most recent call last)",
            "\u001b[0;32m<ipython-input-1-ca63a42d6cbe>\u001b[0m in \u001b[0;36m<module>\u001b[0;34m()\u001b[0m\n\u001b[1;32m     32\u001b[0m \u001b[0;34m\u001b[0m\u001b[0m\n\u001b[1;32m     33\u001b[0m \u001b[0;31m# 讀取樣本\u001b[0m\u001b[0;34m\u001b[0m\u001b[0;34m\u001b[0m\u001b[0;34m\u001b[0m\u001b[0m\n\u001b[0;32m---> 34\u001b[0;31m \u001b[0mimg\u001b[0m\u001b[0;34m=\u001b[0m\u001b[0mnp\u001b[0m\u001b[0;34m.\u001b[0m\u001b[0marray\u001b[0m\u001b[0;34m(\u001b[0m\u001b[0mImage\u001b[0m\u001b[0;34m.\u001b[0m\u001b[0mopen\u001b[0m\u001b[0;34m(\u001b[0m\u001b[0;34m'test.jpg'\u001b[0m\u001b[0;34m)\u001b[0m\u001b[0;34m.\u001b[0m\u001b[0mconvert\u001b[0m\u001b[0;34m(\u001b[0m\u001b[0;34m'L'\u001b[0m\u001b[0;34m)\u001b[0m\u001b[0;34m)\u001b[0m\u001b[0;34m\u001b[0m\u001b[0;34m\u001b[0m\u001b[0m\n\u001b[0m\u001b[1;32m     35\u001b[0m \u001b[0mplot_image\u001b[0m\u001b[0;34m(\u001b[0m\u001b[0mimg\u001b[0m\u001b[0;34m)\u001b[0m\u001b[0;34m\u001b[0m\u001b[0;34m\u001b[0m\u001b[0m\n\u001b[1;32m     36\u001b[0m \u001b[0;34m\u001b[0m\u001b[0m\n",
            "\u001b[0;32m/usr/local/lib/python3.6/dist-packages/PIL/Image.py\u001b[0m in \u001b[0;36mopen\u001b[0;34m(fp, mode)\u001b[0m\n\u001b[1;32m   2807\u001b[0m \u001b[0;34m\u001b[0m\u001b[0m\n\u001b[1;32m   2808\u001b[0m     \u001b[0;32mif\u001b[0m \u001b[0mfilename\u001b[0m\u001b[0;34m:\u001b[0m\u001b[0;34m\u001b[0m\u001b[0;34m\u001b[0m\u001b[0m\n\u001b[0;32m-> 2809\u001b[0;31m         \u001b[0mfp\u001b[0m \u001b[0;34m=\u001b[0m \u001b[0mbuiltins\u001b[0m\u001b[0;34m.\u001b[0m\u001b[0mopen\u001b[0m\u001b[0;34m(\u001b[0m\u001b[0mfilename\u001b[0m\u001b[0;34m,\u001b[0m \u001b[0;34m\"rb\"\u001b[0m\u001b[0;34m)\u001b[0m\u001b[0;34m\u001b[0m\u001b[0;34m\u001b[0m\u001b[0m\n\u001b[0m\u001b[1;32m   2810\u001b[0m         \u001b[0mexclusive_fp\u001b[0m \u001b[0;34m=\u001b[0m \u001b[0;32mTrue\u001b[0m\u001b[0;34m\u001b[0m\u001b[0;34m\u001b[0m\u001b[0m\n\u001b[1;32m   2811\u001b[0m \u001b[0;34m\u001b[0m\u001b[0m\n",
            "\u001b[0;31mFileNotFoundError\u001b[0m: [Errno 2] No such file or directory: 'test.jpg'"
          ]
        }
      ]
    },
    {
      "cell_type": "code",
      "metadata": {
        "id": "zHsiRGYni8-L",
        "colab_type": "code",
        "colab": {
          "base_uri": "https://localhost:8080/",
          "height": 1000
        },
        "outputId": "31f4c394-bfe1-4730-a55e-7ae2a291199b"
      },
      "source": [
        "# coding=utf-8\n",
        "\n",
        "# 載入函示庫\n",
        "import keras\n",
        "from keras.datasets import mnist\n",
        "from keras.models import Sequential\n",
        "from keras.layers import Dense\n",
        "from keras.optimizers import RMSprop\n",
        "\n",
        "batch_size = 128\n",
        "num_classes = 15\n",
        "epochs = 12\n",
        "\n",
        "# 下載mnist範例資料檔分兩部分：訓練資料集x_train, y_train(標記)和測試資料集x_test,y_test\n",
        "(x_train, y_train), (x_test, y_test) = mnist.load_data()\n",
        "\n",
        "# 資料格式化和正規化\n",
        "x_train = x_train.reshape(60000, 784)\n",
        "x_test = x_test.reshape(10000, 784)\n",
        "x_train = x_train.astype('float32')\n",
        "x_test = x_test.astype('float32')\n",
        "x_train /= 255\n",
        "x_test /= 255\n",
        "print(x_train.shape[0], 'train samples')\n",
        "print(x_test.shape[0], 'test samples')\n",
        "\n",
        "# 類別轉換成onehot encoding\n",
        "y_train = keras.utils.to_categorical(y_train, num_classes)\n",
        "y_test = keras.utils.to_categorical(y_test, num_classes)\n",
        "\n",
        "# 模型架構\n",
        "model = Sequential()\n",
        "# 輸入層\n",
        "model.add(Dense(512, activation='relu', input_shape=(784,)))\n",
        "# 隱藏層\n",
        "model.add(Dense(512, activation='relu'))\n",
        "# 輸出層\n",
        "model.add(Dense(num_classes, activation='softmax'))\n",
        "# 模型架構摘要\n",
        "model.summary()\n",
        "\n",
        "# 模型訓練\n",
        "model.compile(loss='categorical_crossentropy',\n",
        "              optimizer=RMSprop(),\n",
        "              metrics=['accuracy'])\n",
        "\n",
        "train_history = model.fit(x_train, y_train,\n",
        "                    batch_size=batch_size,\n",
        "                    epochs=epochs,\n",
        "                    verbose=1,\n",
        "                    validation_split=0.2)\n",
        "\n",
        "# 模型評估\n",
        "score = model.evaluate(x_test, y_test, verbose=0)\n",
        "print('Test loss:', score[0])\n",
        "print('Test accuracy:', score[1])\n",
        "\n",
        "import matplotlib.pyplot as plt\n",
        "def show_train_history(train_type,test_type):\n",
        "    plt.plot(train_history.history[train_type])\n",
        "    plt.plot(train_history.history[test_type])\n",
        "    plt.title('Train History')\n",
        "    if train_type == 'accuracy':\n",
        "        plt.ylabel('Accuracy')\n",
        "    else:\n",
        "        plt.ylabel('Loss')\n",
        "    plt.xlabel('Epoch')\n",
        "    plt.legend(['train', 'test'], loc='upper left')\n",
        "    plt.show()\n",
        "\n",
        "show_train_history('accuracy','val_accuracy')\n",
        "show_train_history('loss','val_loss')\n",
        "\n",
        "# 儲存模型\n",
        "try:\n",
        "    model.save_weights(\"mnist.h5\")\n",
        "    print(\"success\")\n",
        "except:\n",
        "    print(\"error\")"
      ],
      "execution_count": 2,
      "outputs": [
        {
          "output_type": "stream",
          "text": [
            "Downloading data from https://s3.amazonaws.com/img-datasets/mnist.npz\n",
            "11493376/11490434 [==============================] - 1s 0us/step\n",
            "60000 train samples\n",
            "10000 test samples\n",
            "Model: \"sequential_2\"\n",
            "_________________________________________________________________\n",
            "Layer (type)                 Output Shape              Param #   \n",
            "=================================================================\n",
            "dense_4 (Dense)              (None, 512)               401920    \n",
            "_________________________________________________________________\n",
            "dense_5 (Dense)              (None, 512)               262656    \n",
            "_________________________________________________________________\n",
            "dense_6 (Dense)              (None, 15)                7695      \n",
            "=================================================================\n",
            "Total params: 672,271\n",
            "Trainable params: 672,271\n",
            "Non-trainable params: 0\n",
            "_________________________________________________________________\n",
            "Train on 48000 samples, validate on 12000 samples\n",
            "Epoch 1/12\n",
            "48000/48000 [==============================] - 4s 78us/step - loss: 0.2525 - accuracy: 0.9226 - val_loss: 0.1051 - val_accuracy: 0.9691\n",
            "Epoch 2/12\n",
            "48000/48000 [==============================] - 2s 45us/step - loss: 0.0915 - accuracy: 0.9720 - val_loss: 0.1005 - val_accuracy: 0.9708\n",
            "Epoch 3/12\n",
            "48000/48000 [==============================] - 2s 45us/step - loss: 0.0583 - accuracy: 0.9814 - val_loss: 0.0891 - val_accuracy: 0.9753\n",
            "Epoch 4/12\n",
            "48000/48000 [==============================] - 2s 45us/step - loss: 0.0391 - accuracy: 0.9879 - val_loss: 0.1089 - val_accuracy: 0.9737\n",
            "Epoch 5/12\n",
            "48000/48000 [==============================] - 2s 44us/step - loss: 0.0296 - accuracy: 0.9904 - val_loss: 0.1084 - val_accuracy: 0.9751\n",
            "Epoch 6/12\n",
            "48000/48000 [==============================] - 2s 45us/step - loss: 0.0226 - accuracy: 0.9931 - val_loss: 0.1213 - val_accuracy: 0.9736\n",
            "Epoch 7/12\n",
            "48000/48000 [==============================] - 2s 45us/step - loss: 0.0184 - accuracy: 0.9941 - val_loss: 0.1222 - val_accuracy: 0.9768\n",
            "Epoch 8/12\n",
            "48000/48000 [==============================] - 2s 44us/step - loss: 0.0149 - accuracy: 0.9955 - val_loss: 0.1342 - val_accuracy: 0.9772\n",
            "Epoch 9/12\n",
            "48000/48000 [==============================] - 2s 44us/step - loss: 0.0129 - accuracy: 0.9962 - val_loss: 0.1373 - val_accuracy: 0.9766\n",
            "Epoch 10/12\n",
            "48000/48000 [==============================] - 2s 44us/step - loss: 0.0119 - accuracy: 0.9965 - val_loss: 0.1353 - val_accuracy: 0.9791\n",
            "Epoch 11/12\n",
            "48000/48000 [==============================] - 2s 45us/step - loss: 0.0107 - accuracy: 0.9967 - val_loss: 0.1408 - val_accuracy: 0.9794\n",
            "Epoch 12/12\n",
            "48000/48000 [==============================] - 2s 44us/step - loss: 0.0088 - accuracy: 0.9976 - val_loss: 0.1578 - val_accuracy: 0.9784\n",
            "Test loss: 0.12683366155287523\n",
            "Test accuracy: 0.9807000160217285\n"
          ],
          "name": "stdout"
        },
        {
          "output_type": "display_data",
          "data": {
            "image/png": "[encoded data removed]",
            "text/plain": [
              "<Figure size 432x288 with 1 Axes>"
            ]
          },
          "metadata": {
            "tags": [],
            "needs_background": "light"
          }
        },
        {
          "output_type": "display_data",
          "data": {
            "image/png": "[encoded data removed]",
            "text/plain": [
              "<Figure size 432x288 with 1 Axes>"
            ]
          },
          "metadata": {
            "tags": [],
            "needs_background": "light"
          }
        },
        {
          "output_type": "stream",
          "text": [
            "success\n"
          ],
          "name": "stdout"
        }
      ]
    },
    {
      "cell_type": "markdown",
      "metadata": {
        "id": "38XhDuX67gDa",
        "colab_type": "text"
      },
      "source": [
        "# 新增區段"
      ]
    }
  ]
}